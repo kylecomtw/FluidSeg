{
 "cells": [
  {
   "cell_type": "code",
   "execution_count": 1,
   "metadata": {
    "collapsed": true
   },
   "outputs": [],
   "source": [
    "%load_ext autoreload\n",
    "%autoreload 2"
   ]
  },
  {
   "cell_type": "markdown",
   "metadata": {},
   "source": [
    "# import necessary packages\n",
    "\n",
    "FluidSeg is available from https://github.com/seantyh/FluidSeg.git\n",
    "* install after cloning:  \n",
    "`pip install -e .`\n"
   ]
  },
  {
   "cell_type": "code",
   "execution_count": 2,
   "metadata": {
    "collapsed": true
   },
   "outputs": [],
   "source": [
    "import pickle\n",
    "import logging\n",
    "from itertools import chain\n",
    "from FluidSeg import FluidSeg\n",
    "from FluidSeg import LexiconFactory\n",
    "from FluidSeg import TokenData\n",
    "\n",
    "logging.getLogger().setLevel(\"ERROR\")"
   ]
  },
  {
   "cell_type": "code",
   "execution_count": 3,
   "metadata": {},
   "outputs": [
    {
     "data": {
      "text/plain": [
       "{'不': <LemmaData: [(13, ['不知道大家要不要再研究看看']), (8, ['不知道大家要不要']), (3, ['不知道'])]>,\n",
       " '今': <LemmaData: [(6, ['今天來說的話']), (4, ['今天來說'])]>,\n",
       " '來': <LemmaData: [(4, ['來說的話'])]>,\n",
       " '再': <LemmaData: [(5, ['再研究看看']), (3, ['再研究'])]>,\n",
       " '我': <LemmaData: [(3, ['我想說'])]>,\n",
       " '的': <LemmaData: [(2, ['的話'])]>,\n",
       " '要': <LemmaData: [(3, ['要不要'])]>}"
      ]
     },
     "execution_count": 3,
     "metadata": {},
     "output_type": "execute_result"
    }
   ],
   "source": [
    "lexicon = LexiconFactory().get(\"test_lexfile.txt\")\n",
    "lexicon.wordmap"
   ]
  },
  {
   "cell_type": "code",
   "execution_count": 4,
   "metadata": {},
   "outputs": [
    {
     "data": {
      "text/plain": [
       "<Segments>\n",
       "Tokens: \n",
       "  [<今-0,1>, <天-1,2>, <來-2,3>, <說-3,4>, <的-4,5>, <話-5,6>, <，-6,7>, <我-7,8>, <想-8,9>, <說-9,10>, <，-10,11>, <不-11,12>, <知-12,13>, <道-13,14>, <大-14,15>, <家-15,16>, <要-16,17>, <不-17,18>, <要-18,19>, <再-19,20>, <研-20,21>, <究-21,22>, <看-22,23>, <看-23,24>, <。-24,25>]\n",
       "Preseg: \n",
       "  [<今天-0,2>, <來說-2,4>, <的話-4,6>, <，-6,7>, <我-7,8>, <想-8,9>, <說-9,10>, <，-10,11>, <不-11,12>, <知道-12,14>, <大家-14,16>, <要-16,17>, <不-17,18>, <要-18,19>, <再-19,20>, <研究-20,22>, <看看-22,24>, <。-24,25>]\n",
       "Data: \n",
       "  [1.00]: [<今天來說-0,4>, <的話-4,6>, <我想說-7,10>, <不知道-11,14>, <要不要-16,19>, <再研究-19,22>]\n",
       "  [0.67]: [<今天來說的話-0,6>, <我想說-7,10>, <不知道大家要不要-11,19>, <再研究看看-19,24>]\n",
       "  [0.33]: [<今天來說的話-0,6>, <我想說-7,10>, <不知道大家要不要再研究看看-11,24>]\n",
       "  [0.00]: [<今天來說的話-0,6>, <我想說-7,10>, <不知道大家要不要再研究看看-11,24>]"
      ]
     },
     "execution_count": 4,
     "metadata": {},
     "output_type": "execute_result"
    }
   ],
   "source": [
    "fseg = FluidSeg(lexicon)\n",
    "segData = fseg.segment(\"今天來說的話，我想說，不知道大家要不要再研究看看。\")\n",
    "\n",
    "# segmented word string was stored in test_segment.pyObj\n",
    "# load the segmentation into preseg\n",
    "with open(\"test_segment.pyObj\", \"rb\") as fin:\n",
    "    od = pickle.load(fin)\n",
    "    preseg = list(chain.from_iterable(od.tokens)) \n",
    "    preseg = [TokenData(x[0], x[3], x[4]) for x in preseg] \n",
    "\n",
    "# use preseg as the presegment info in segData\n",
    "segData.setPresegment(preseg)\n",
    "segData"
   ]
  },
  {
   "cell_type": "markdown",
   "metadata": {},
   "source": [
    "# Tokens and segmentation stored in segData"
   ]
  },
  {
   "cell_type": "code",
   "execution_count": 5,
   "metadata": {
    "scrolled": true
   },
   "outputs": [
    {
     "name": "stdout",
     "output_type": "stream",
     "text": [
      "今　天　來　說　的　話　，　我　想　說　，　不　知　道　大　家　要　不　要　再　研　究　看　看　。\n"
     ]
    }
   ],
   "source": [
    "print(segData.toSegmentedText(segData.tokens))"
   ]
  },
  {
   "cell_type": "code",
   "execution_count": 6,
   "metadata": {
    "scrolled": true
   },
   "outputs": [
    {
     "name": "stdout",
     "output_type": "stream",
     "text": [
      "今天　來說　的話　，　我　想　說　，　不　知道　大家　要　不　要　再　研究　看看　。\n"
     ]
    }
   ],
   "source": [
    "print(segData.toSegmentedText(segData.preseg))"
   ]
  },
  {
   "cell_type": "markdown",
   "metadata": {},
   "source": [
    "# different granularity mappings aligned with token boundary"
   ]
  },
  {
   "cell_type": "code",
   "execution_count": 10,
   "metadata": {
    "scrolled": true
   },
   "outputs": [
    {
     "name": "stdout",
     "output_type": "stream",
     "text": [
      "今天來說的話　，　我想說　，　不知道大家要不要再研究看看　。\n",
      "今天來說的話　，　我想說　，　不知道大家要不要　再研究看看　。\n",
      "今天來說　的話　，　我想說　，　不知道　大　家　要不要　再研究　看　看　。\n"
     ]
    }
   ],
   "source": [
    "print(segData.toSegmentedText(granularity=0.33))\n",
    "print(segData.toSegmentedText(granularity=0.66))\n",
    "print(segData.toSegmentedText(granularity=1.00))"
   ]
  },
  {
   "cell_type": "markdown",
   "metadata": {},
   "source": [
    "# different granularity mappings aligned with preseg boundary"
   ]
  },
  {
   "cell_type": "code",
   "execution_count": 11,
   "metadata": {},
   "outputs": [
    {
     "name": "stdout",
     "output_type": "stream",
     "text": [
      "今天來說的話　，　我想說　，　不知道大家要不要再研究看看　。\n",
      "今天來說的話　，　我想說　，　不知道大家要不要　再研究看看　。\n",
      "今天來說　的話　，　我想說　，　不知道　大家　要不要　再研究　看看　。\n"
     ]
    }
   ],
   "source": [
    "print(segData.toSegmentedText(segData.preseg, granularity=0.33))\n",
    "print(segData.toSegmentedText(segData.preseg, granularity=0.66))\n",
    "print(segData.toSegmentedText(segData.preseg, granularity=1.00))"
   ]
  },
  {
   "cell_type": "code",
   "execution_count": null,
   "metadata": {
    "collapsed": true
   },
   "outputs": [],
   "source": []
  }
 ],
 "metadata": {
  "kernelspec": {
   "display_name": "Python 3",
   "language": "python",
   "name": "python3"
  },
  "language_info": {
   "codemirror_mode": {
    "name": "ipython",
    "version": 3
   },
   "file_extension": ".py",
   "mimetype": "text/x-python",
   "name": "python",
   "nbconvert_exporter": "python",
   "pygments_lexer": "ipython3",
   "version": "3.6.1"
  }
 },
 "nbformat": 4,
 "nbformat_minor": 2
}
